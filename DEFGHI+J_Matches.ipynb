{
 "cells": [
  {
   "cell_type": "code",
   "execution_count": 1,
   "id": "d442ab20",
   "metadata": {},
   "outputs": [],
   "source": [
    "# highlight the rows matches\n",
    "# if the elements in column J match D, E, F, G, H, and I.\n",
    "# For column F and column I, include the slight differences in no. 1 and 1.\n",
    "# If a column is completely Empty, delete it."
   ]
  },
  {
   "cell_type": "code",
   "execution_count": 2,
   "id": "3fbcb6f0",
   "metadata": {},
   "outputs": [],
   "source": [
    "import numpy as np\n",
    "import pandas as pd\n",
    "import os"
   ]
  },
  {
   "cell_type": "code",
   "execution_count": 3,
   "id": "8150b607",
   "metadata": {},
   "outputs": [],
   "source": [
    "from openpyxl import load_workbook"
   ]
  },
  {
   "cell_type": "code",
   "execution_count": 4,
   "id": "b3c01380",
   "metadata": {},
   "outputs": [
    {
     "name": "stdout",
     "output_type": "stream",
     "text": [
      "/Users/malikredwood/Desktop/Python Programming/Pythonista\n"
     ]
    }
   ],
   "source": [
    "# find the current working directory\n",
    "cwd = os.getcwd()\n",
    "print(cwd)"
   ]
  },
  {
   "cell_type": "code",
   "execution_count": 5,
   "id": "5dcc0901",
   "metadata": {},
   "outputs": [],
   "source": [
    "# File = Print Journals WMS update + WorldCat hldgs v2\n",
    "\n",
    "# sheet name = Partial+Non-Permanent Holdings\n",
    "\n",
    "sheet_name = 'Partial+Non-Permanent Holdings'\n",
    "\n",
    "df = pd.read_excel('Print Journals WMS update + WorldCat hldgs v2.xlsx', sheet_name = sheet_name)\n"
   ]
  },
  {
   "cell_type": "code",
   "execution_count": 7,
   "id": "961d2ebf",
   "metadata": {},
   "outputs": [
    {
     "name": "stdout",
     "output_type": "stream",
     "text": [
      "Empty DataFrame\n",
      "Columns: [Unnamed: 0, publication title, print identifier, date first issue online, num first vol online, num first issue online, date last issue online, num last vol online, num last issue online, coverage notes, All WorldCat Holdings, Holdings in My State, NOTES]\n",
      "Index: []\n"
     ]
    }
   ],
   "source": [
    "# Define a function to check if all items in certain columns are present in another column\n",
    "def check_columns(row):\n",
    "    \n",
    "    # Split the values in each column by semicolon and comma, and strip whitespace\n",
    "    column_d_values = [str(val).strip() for val in str(row['date first issue online']).split(';') + str(row['date first issue online']).split(',') + str(row['date first issue online']).split(':')]\n",
    "    column_e_values = [str(val).strip() for val in str(row['num first vol online']).split(';') + str(row['num first vol online']).split(',') + str(row['num first vol online']).split(':')]\n",
    "    column_f_values = [str(val).strip() for val in str(row['num first issue online']).split(';') + str(row['num first issue online']).split(',') + str(row['num first issue online']).split(':')]\n",
    "    column_g_values = [str(val).strip() for val in str(row['date last issue online']).split(';') + str(row['date last issue online']).split(',') + str(row['date last issue online']).split(':')]\n",
    "    column_h_values = [str(val).strip() for val in str(row['num last vol online']).split(';') + str(row['num last vol online']).split(',') + str(row['num last vol online']).split(':')]\n",
    "    column_i_values = [str(val).strip() for val in str(row['num last issue online']).split(';') + str(row['num last issue online']).split(',') + str(row['num last issue online']).split(':')]\n",
    "    column_j_values = [str(val).strip() for val in str(row['coverage notes']).split(';') + str(row['coverage notes']).split(',')]\n",
    "\n",
    "    # Define the expected values for each column\n",
    "    expected_values_dg = [f\"v.{d}-{g}\" for d, g in zip(column_d_values, column_g_values)]\n",
    "    expected_values_eh = [f\"{e}-{h}\" for e, h in zip(column_e_values, column_h_values)]\n",
    "    expected_values_fi = [f\"no.{f}-{i}\" for f, i in zip(column_f_values, column_i_values)]\n",
    "\n",
    "    # Combine all expected values into a single list\n",
    "    expected_values = expected_values_dg + expected_values_eh + expected_values_fi\n",
    "\n",
    "    # Check if all expected values are present in column J\n",
    "    for value in expected_values:\n",
    "        if value not in column_j_values:\n",
    "            return False\n",
    "    return True\n",
    "\n",
    "# Apply the check_columns function to each row and keep only the rows that pass the check\n",
    "df_filtered = df[df.apply(check_columns, axis=1)]\n",
    "\n",
    "print(df_filtered)\n",
    "\n",
    "\n",
    "# Write the filtered data to a new sheet in the existing Excel file\n",
    "#with pd.ExcelWriter('filtered_PJ_data.xlsx', mode='w', engine='openpyxl') as writer:\n",
    "    #df_filtered.to_excel(writer, index=False)\n",
    "# df.to_excel('filtered_Print_Journals_data.xlsx', index=False)"
   ]
  },
  {
   "cell_type": "markdown",
   "id": "26adf475",
   "metadata": {},
   "source": [
    "https://www.youtube.com/watch?v=Cfb0AXCuPqw "
   ]
  },
  {
   "cell_type": "code",
   "execution_count": null,
   "id": "f2b0e03b",
   "metadata": {},
   "outputs": [],
   "source": [
    "# Create a new sheet in the existing Excel file\n",
    "from openpyxl import load_workbook\n",
    "\n",
    "df.create_sheet('Partial+Non-Permanent Holdings Matches')\n",
    "df.save('Print Journals WMS update + WorldCat hldgs v2.xlsx')"
   ]
  },
  {
   "cell_type": "code",
   "execution_count": null,
   "id": "3351ad05",
   "metadata": {},
   "outputs": [],
   "source": [
    "# Delete empty columns in the excel file\n",
    "# from openpyxl import load_workbook\n",
    "\n",
    "# sheet = df['Partial+Non-Permanent Holdings']\n",
    "# sheet.delete_cols(1, sheet.max_column)\n",
    "# df.save('Print Journals WMS update + WorldCat hldgs v2.xlsx')"
   ]
  }
 ],
 "metadata": {
  "kernelspec": {
   "display_name": "Python 3 (ipykernel)",
   "language": "python",
   "name": "python3"
  },
  "language_info": {
   "codemirror_mode": {
    "name": "ipython",
    "version": 3
   },
   "file_extension": ".py",
   "mimetype": "text/x-python",
   "name": "python",
   "nbconvert_exporter": "python",
   "pygments_lexer": "ipython3",
   "version": "3.9.12"
  }
 },
 "nbformat": 4,
 "nbformat_minor": 5
}
